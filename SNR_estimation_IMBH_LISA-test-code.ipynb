{
 "cells": [
  {
   "cell_type": "code",
   "execution_count": 1,
   "id": "13de9e3e",
   "metadata": {},
   "outputs": [],
   "source": [
    "#import relevant libraries\n",
    "\n",
    "import matplotlib.pyplot as plt\n",
    "import numpy as np\n",
    "import scipy as sp\n",
    "from math import *\n",
    "import matplotlib.ticker\n",
    "import LISA_tools as LISA"
   ]
  },
  {
   "cell_type": "markdown",
   "id": "c6264491",
   "metadata": {},
   "source": [
    "## Set physical and LISA constants"
   ]
  },
  {
   "cell_type": "code",
   "execution_count": 16,
   "id": "286793df",
   "metadata": {},
   "outputs": [],
   "source": [
    "\"\"\" Cosmological values \"\"\"\n",
    "H0      = 69.6      # Hubble parameter today\n",
    "Omega_m = 0.286     # density parameter of matter\n",
    "\n",
    "\"\"\" LISA arm length \"\"\"\n",
    "L = 2.5e9 # meters\n",
    "\n",
    "\"\"\" Transfer Frequency \"\"\"\n",
    "f_star = LISA.C/(2.*np.pi*L)\n",
    "\n",
    "\"\"\" Observation Period \"\"\"\n",
    "Tobs = 4.*LISA.YEAR\n",
    "\n",
    "\"\"\" Number of Michelson Data Channels \"\"\"\n",
    "NC = 2\n",
    "\n",
    "Gpc = 3.08567758149137e25\n",
    "G = 6.67430e-11\n",
    "c = 299792458\n",
    "Msun = 1.9885e30\n",
    "\n",
    "constants = np.array([H0, Omega_m, L, f_star, Tobs, NC])"
   ]
  },
  {
   "cell_type": "markdown",
   "id": "5143c35b",
   "metadata": {},
   "source": [
    "## Import the Noise Curve (corresponding to 4yr LISA lifetime as default)"
   ]
  },
  {
   "cell_type": "code",
   "execution_count": 8,
   "id": "ccfb651c",
   "metadata": {},
   "outputs": [],
   "source": [
    "freq_arr = np.loadtxt('Sn_4yr.dat')[:,0]\n",
    "Sn_arr = np.loadtxt('Sn_4yr.dat')[:,1]"
   ]
  },
  {
   "cell_type": "markdown",
   "id": "39be6dff",
   "metadata": {},
   "source": [
    "## Define source parameters"
   ]
  },
  {
   "cell_type": "code",
   "execution_count": 87,
   "id": "3c425cae",
   "metadata": {},
   "outputs": [],
   "source": [
    "D_l = 1.0*Gpc #distance to source\n",
    "#masses\n",
    "m1=1.0e4*Msun \n",
    "m2=1.0e4*Msun\n",
    "m=m1+m2\n",
    "mu=m1*m2/m\n",
    "eta=mu/m\n",
    "Mc=eta**(3./5.)*m\n",
    "\n",
    "#Overall constant for GW amplitude\n",
    "A=np.sqrt(5./24.)*(G*Mc/c**3)**(5./6.)/np.pi**(2./3)/(D_l/c)\n",
    "\n",
    "#initial orbital separation based on delta a/ a_init ~ 10%\n",
    "a_init=450*G*m/c**2 \n",
    "f_init=(G*m/a_init**3)**(1./2.)/np.pi"
   ]
  },
  {
   "cell_type": "code",
   "execution_count": 116,
   "id": "add89637",
   "metadata": {},
   "outputs": [
    {
     "data": {
      "text/plain": [
       "0.0003384793285342115"
      ]
     },
     "execution_count": 116,
     "metadata": {},
     "output_type": "execute_result"
    }
   ],
   "source": [
    "f_init"
   ]
  },
  {
   "cell_type": "markdown",
   "id": "fe471857",
   "metadata": {},
   "source": [
    "## Compute the frequency as a function of time"
   ]
  },
  {
   "cell_type": "code",
   "execution_count": 45,
   "id": "a5aac6e2",
   "metadata": {},
   "outputs": [],
   "source": [
    "#Compute the GW frequency as a function of time\n",
    "\n",
    "def freq(f_init,m,eta,t):\n",
    "    a_in = ((G*m)/(np.pi*f_init)**2)**(1./3.)\n",
    "    epsilonrr = (G*m/c**2/a_in)**(5./2)\n",
    "    a=(a_in**4-256/5*eta*epsilonrr*(G*m)**(1./2)*a_in**(5./2.)*t)**(1./4.)\n",
    "    return (G*m/a**3)**(1./2.)/np.pi"
   ]
  },
  {
   "cell_type": "markdown",
   "id": "3b4ef507",
   "metadata": {},
   "source": [
    "## Define GW inspiral strain and SNR"
   ]
  },
  {
   "cell_type": "code",
   "execution_count": 127,
   "id": "88dc6945",
   "metadata": {},
   "outputs": [],
   "source": [
    "def h_insp(f,A):\n",
    "    #f is array like\n",
    "    return A*f**(-7./6.)\n",
    "\n",
    "def S_analytic(f,fstar,L,NC,Tobs):\n",
    "    Sn = LISA.get_Sn_approx(f,f_star,L,NC)\n",
    "    Sc = LISA.get_Sc_est(f,Tobs,NC)\n",
    "    return Sn+Sc\n",
    "\n",
    "def SNR(f,A,S,delta_f):\n",
    "    #f,S are array like\n",
    "    h=h_insp(f,A)\n",
    "    #Compute SNR using a simple Riemann sum as an approximation to the integral. \n",
    "    return (4*np.sum(h**2/S)*delta_f)**(1./2.)"
   ]
  },
  {
   "cell_type": "markdown",
   "id": "02fa1cdf",
   "metadata": {},
   "source": [
    "## Determine Frequency Window to study"
   ]
  },
  {
   "cell_type": "code",
   "execution_count": 59,
   "id": "9aed5d83",
   "metadata": {},
   "outputs": [],
   "source": [
    "# Compute the maximum frequency after 4 years\n",
    "f_max=freq(f_init,m,eta,4*LISA.YEAR)\n",
    "a_f = ((G*m)/(np.pi*f_max)**2)**(1./3.)"
   ]
  },
  {
   "cell_type": "code",
   "execution_count": 123,
   "id": "b4574f72",
   "metadata": {},
   "outputs": [],
   "source": [
    "#Define the frequency window to focus on and also define the bin size\n",
    "delta_f = (f_max-f_init)/100.\n",
    "freq_window = np.arange(f_init,f_max,delta_f)"
   ]
  },
  {
   "cell_type": "code",
   "execution_count": 126,
   "id": "ef5b09a9",
   "metadata": {},
   "outputs": [
    {
     "data": {
      "text/plain": [
       "0.00040993829703777767"
      ]
     },
     "execution_count": 126,
     "metadata": {},
     "output_type": "execute_result"
    }
   ],
   "source": [
    "f_max"
   ]
  },
  {
   "cell_type": "markdown",
   "id": "2adfcc9f",
   "metadata": {},
   "source": [
    "## Find SNR for the source"
   ]
  },
  {
   "cell_type": "code",
   "execution_count": 128,
   "id": "ba1b5cfa",
   "metadata": {},
   "outputs": [],
   "source": [
    "# Find the approximate S_n and S_c and add them to get the total noise (this is an excellent approximation for early frequencies)\n",
    "S_tot_window = S_analytic(freq_window,f_star,L,NC,Tobs)\n",
    "#Find the resulting SNR \n",
    "rho = SNR(freq_window,A,S_tot_window,delta_f)"
   ]
  },
  {
   "cell_type": "code",
   "execution_count": 129,
   "id": "78ebf659",
   "metadata": {},
   "outputs": [
    {
     "data": {
      "text/plain": [
       "15.59681892839082"
      ]
     },
     "execution_count": 129,
     "metadata": {},
     "output_type": "execute_result"
    }
   ],
   "source": [
    "rho"
   ]
  },
  {
   "cell_type": "markdown",
   "id": "2f4fd4ff",
   "metadata": {},
   "source": [
    "## Plot source strain vs detector noise strain"
   ]
  },
  {
   "cell_type": "code",
   "execution_count": 138,
   "id": "75703c24",
   "metadata": {},
   "outputs": [
    {
     "data": {
      "image/png": "[encoded data removed]",
      "text/plain": [
       "<Figure size 720x576 with 1 Axes>"
      ]
     },
     "metadata": {
      "needs_background": "light"
     },
     "output_type": "display_data"
    }
   ],
   "source": [
    "fig,ax=plt.subplots(figsize=(10,8))\n",
    "\n",
    "\"\"\" Set the font and style of plot \"\"\"\n",
    "plt.rcParams.update({\n",
    "    \"text.usetex\": True,\n",
    "    \"font.family\": \"sans-serif\",\n",
    "    \"font.sans-serif\": [\"Helvetica\"]})\n",
    "# for Palatino and other serif fonts use:\n",
    "plt.rcParams.update({\n",
    "    \"text.usetex\": True,\n",
    "    \"font.family\": \"serif\",\n",
    "    \"font.serif\": [\"Palatino\"],\n",
    "})\n",
    "\n",
    "\n",
    "ax.set_xlabel(r'$f (Hz) $', fontsize=25)\n",
    "ax.set_ylabel(r'Characteristic Strain',fontsize=25)\n",
    "\n",
    "ax.tick_params(which='both', width=2, length=8)\n",
    "\n",
    "ax.plot(freq_arr,(freq_arr*S_analytic(freq_arr,f_star,L,NC,Tobs))**(1./2),label=r'$\\sqrt{f S_n(f)}$')\n",
    "ax.plot(freq_window,freq_window*h_insp(freq_window,A),label=r'$f \\tilde{h} (f)$')\n",
    "#ax.plot(freq_window,(freq_window*S_tot_window)**(1./2),label=r'$\\sqrt{f S_n(f)}$')\n",
    "ax.set_yscale('log')\n",
    "ax.set_xscale('log')\n",
    "#ax.set_xlim(1.0e-5, 1.0e0)\n",
    "#ax.set_ylim(3.0e-22, 1.0e-15)\n",
    "ax.grid('True')\n",
    "ax.tick_params(labelsize=25)\n",
    "\n",
    "ax.legend(fontsize=25)\n",
    "plt.savefig('sourceVSdetectorStrain_m_2e4_equal_mass_1Gpc_4yr_a_init_450m.pdf',dpi=fig.dpi,bbox_inches='tight')"
   ]
  },
  {
   "cell_type": "code",
   "execution_count": null,
   "id": "912aff39",
   "metadata": {},
   "outputs": [],
   "source": []
  }
 ],
 "metadata": {
  "kernelspec": {
   "display_name": "Python 3 (ipykernel)",
   "language": "python",
   "name": "python3"
  },
  "language_info": {
   "codemirror_mode": {
    "name": "ipython",
    "version": 3
   },
   "file_extension": ".py",
   "mimetype": "text/x-python",
   "name": "python",
   "nbconvert_exporter": "python",
   "pygments_lexer": "ipython3",
   "version": "3.9.5"
  }
 },
 "nbformat": 4,
 "nbformat_minor": 5
}
