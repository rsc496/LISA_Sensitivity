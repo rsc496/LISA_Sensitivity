{
 "cells": [
  {
   "cell_type": "code",
   "execution_count": 1,
   "id": "51fb77a8",
   "metadata": {},
   "outputs": [],
   "source": [
    "#import relevant libraries\n",
    "\n",
    "import matplotlib.pyplot as plt\n",
    "import numpy as np\n",
    "import scipy as sp\n",
    "from math import *\n",
    "import matplotlib.ticker\n",
    "import LISA_tools as LISA"
   ]
  },
  {
   "cell_type": "markdown",
   "id": "77f3e3da",
   "metadata": {},
   "source": [
    "## Set physical and LISA constants"
   ]
  },
  {
   "cell_type": "code",
   "execution_count": 2,
   "id": "261c439a",
   "metadata": {},
   "outputs": [],
   "source": [
    "\"\"\" Cosmological values \"\"\"\n",
    "H0      = 69.6      # Hubble parameter today\n",
    "Omega_m = 0.286     # density parameter of matter\n",
    "\n",
    "\"\"\" LISA arm length \"\"\"\n",
    "L = 2.5e9 # meters\n",
    "\n",
    "\"\"\" Transfer Frequency \"\"\"\n",
    "f_star = LISA.C/(2.*np.pi*L)\n",
    "\n",
    "\"\"\" Observation Period \"\"\"\n",
    "Tobs = 4.*LISA.YEAR\n",
    "\n",
    "\"\"\" Number of Michelson Data Channels \"\"\"\n",
    "NC = 2\n",
    "\n",
    "\n",
    "G = 6.67430e-11\n",
    "c = 299792458.\n",
    "Gpc = 3.08567758149137e25/c #Giga parsec in seconds\n",
    "Msun = 1.9885e30*G/c**3 #Mass of Sun in seconds\n"
   ]
  },
  {
   "cell_type": "markdown",
   "id": "f0ec92ab",
   "metadata": {},
   "source": [
    "## Import the Noise Curve (corresponding to 4yr LISA lifetime as default)"
   ]
  },
  {
   "cell_type": "code",
   "execution_count": 3,
   "id": "8c5a65ef",
   "metadata": {},
   "outputs": [],
   "source": [
    "freq_arr = np.loadtxt('Sn_4yr.dat')[:,0]\n",
    "Sn_arr = np.loadtxt('Sn_4yr.dat')[:,1]"
   ]
  },
  {
   "cell_type": "markdown",
   "id": "e1c3a1e2",
   "metadata": {},
   "source": [
    "## Define source parameters"
   ]
  },
  {
   "cell_type": "code",
   "execution_count": 15,
   "id": "81899424",
   "metadata": {},
   "outputs": [],
   "source": [
    "D_l = 1.0*Gpc #distance to source\n",
    "#masses in detector frame\n",
    "m1=1.0e4*Msun \n",
    "m2=1.0e4*Msun\n",
    "\n",
    "#Find redshift \n",
    "z=sp.optimize.root(LISA.get_z, 1., args=(D_l, Omega_m, H0)).x[0]\n",
    "\n",
    "m=m1+m2\n",
    "mu=m1*m2/m\n",
    "eta=mu/m\n",
    "Mc=eta**(3./5.)*m\n",
    "\n",
    "f_ISCO = 6.0**(-3./2)/m\n",
    "\n",
    "#Overall constant for GW amplitude\n",
    "A=np.sqrt(5./24.)*(Mc)**(5./6.)/np.pi**(2./3)/(D_l)\n",
    "\n",
    "#initial orbital separation based on delta a/ a_init ~ 10%\n",
    "a_init=450*m\n",
    "f_init=(m/a_init**3)**(1./2.)/np.pi"
   ]
  },
  {
   "cell_type": "markdown",
   "id": "578d8243",
   "metadata": {},
   "source": [
    "## Compute the frequency as a function of time"
   ]
  },
  {
   "cell_type": "code",
   "execution_count": 5,
   "id": "2c0b0da3",
   "metadata": {},
   "outputs": [],
   "source": [
    "def aTOfreq(a,m):\n",
    "    return (m/a**3)**(1./2)/np.pi\n",
    "\n",
    "def freqTOa(f,m):\n",
    "    return (m/(np.pi*f)**2)**(1./3.)\n",
    "\n",
    "#Compute the GW frequency as a function of time\n",
    "\n",
    "def freq(f_init,m,eta,t):\n",
    "    a_in = (m/(np.pi*f_init)**2)**(1./3.)\n",
    "    epsilonrr = (m/a_in)**(5./2)\n",
    "    a=(a_in**4-256/5*eta*epsilonrr*(m)**(1./2)*a_in**(5./2.)*t)**(1./4.)\n",
    "    return (m/a**3)**(1./2.)/np.pi"
   ]
  },
  {
   "cell_type": "markdown",
   "id": "49b13ed3",
   "metadata": {},
   "source": [
    "## Define GW inspiral strain and SNR"
   ]
  },
  {
   "cell_type": "code",
   "execution_count": 6,
   "id": "4a565229",
   "metadata": {},
   "outputs": [],
   "source": [
    "def h_insp(f,A):\n",
    "    #f is array like\n",
    "    return A*f**(-7./6.)\n",
    "\n",
    "def S_analytic(f,fstar,L,NC,Tobs):\n",
    "    Sn = LISA.get_Sn_approx(f,f_star,L,NC)\n",
    "    Sc = LISA.get_Sc_est(f,Tobs,NC)\n",
    "    return Sn+Sc\n",
    "\n",
    "def SNR(f,A,S,delta_f):\n",
    "    #f,S are array like\n",
    "    h=h_insp(f,A)\n",
    "    #Compute SNR using a simple Riemann sum as an approximation to the integral. \n",
    "    return (4*np.sum(h**2/S)*delta_f)**(1./2.)"
   ]
  },
  {
   "cell_type": "markdown",
   "id": "13287c31",
   "metadata": {},
   "source": [
    "## Determine Frequency Window to study"
   ]
  },
  {
   "cell_type": "code",
   "execution_count": 16,
   "id": "a148bec7",
   "metadata": {},
   "outputs": [],
   "source": [
    "# Compute the maximum frequency after 4 years\n",
    "f_max=freq(f_init,m,eta,4*LISA.YEAR)\n",
    "a_f = ((m)/(np.pi*f_max)**2)**(1./3.)"
   ]
  },
  {
   "cell_type": "code",
   "execution_count": 19,
   "id": "8b79b8e6",
   "metadata": {},
   "outputs": [],
   "source": [
    "#Define the frequency window to focus on and also define the bin size\n",
    "delta_f = (f_max-f_init)/100.\n",
    "freq_window = np.arange(f_init,f_max,delta_f)"
   ]
  },
  {
   "cell_type": "markdown",
   "id": "e08739d7",
   "metadata": {},
   "source": [
    "## Find SNR for the source"
   ]
  },
  {
   "cell_type": "code",
   "execution_count": 20,
   "id": "eecec5e7",
   "metadata": {},
   "outputs": [],
   "source": [
    "# Find the approximate S_n and S_c and add them to get the total noise (this is an excellent approximation for early frequencies)\n",
    "S_tot_window = S_analytic(freq_window,f_star,L,NC,Tobs)\n",
    "#Find the resulting SNR \n",
    "rho = SNR(freq_window,A,S_tot_window,delta_f)"
   ]
  },
  {
   "cell_type": "code",
   "execution_count": 21,
   "id": "de3e18d0",
   "metadata": {},
   "outputs": [
    {
     "data": {
      "text/plain": [
       "15.596818928390615"
      ]
     },
     "execution_count": 21,
     "metadata": {},
     "output_type": "execute_result"
    }
   ],
   "source": [
    "rho"
   ]
  },
  {
   "cell_type": "markdown",
   "id": "139158b1",
   "metadata": {},
   "source": [
    "## Plot source strain vs detector noise strain"
   ]
  },
  {
   "cell_type": "code",
   "execution_count": 22,
   "id": "5ce06d04",
   "metadata": {},
   "outputs": [
    {
     "data": {
      "text/plain": [
       "<matplotlib.legend.Legend at 0x161b26f70>"
      ]
     },
     "execution_count": 22,
     "metadata": {},
     "output_type": "execute_result"
    },
    {
     "data": {
      "image/png": "[encoded data removed]",
      "text/plain": [
       "<Figure size 720x576 with 1 Axes>"
      ]
     },
     "metadata": {
      "needs_background": "light"
     },
     "output_type": "display_data"
    }
   ],
   "source": [
    "fig,ax=plt.subplots(figsize=(10,8))\n",
    "\n",
    "\"\"\" Set the font and style of plot \"\"\"\n",
    "plt.rcParams.update({\n",
    "    \"text.usetex\": True,\n",
    "    \"font.family\": \"sans-serif\",\n",
    "    \"font.sans-serif\": [\"Helvetica\"]})\n",
    "# for Palatino and other serif fonts use:\n",
    "plt.rcParams.update({\n",
    "    \"text.usetex\": True,\n",
    "    \"font.family\": \"serif\",\n",
    "    \"font.serif\": [\"Palatino\"],\n",
    "})\n",
    "\n",
    "\n",
    "ax.set_xlabel(r'$f (Hz) $', fontsize=25)\n",
    "ax.set_ylabel(r'Characteristic Strain',fontsize=25)\n",
    "\n",
    "ax.tick_params(which='both', width=2, length=8)\n",
    "\n",
    "ax.plot(freq_arr,(freq_arr*S_analytic(freq_arr,f_star,L,NC,Tobs))**(1./2),label=r'$\\sqrt{f S_n(f)}$')\n",
    "ax.plot(freq_window,freq_window*h_insp(freq_window,A),label=r'$f \\tilde{h} (f)$')\n",
    "#ax.plot(freq_window,(freq_window*S_tot_window)**(1./2),label=r'$\\sqrt{f S_n(f)}$')\n",
    "ax.set_yscale('log')\n",
    "ax.set_xscale('log')\n",
    "#ax.set_xlim(1.0e-5, 1.0e0)\n",
    "#ax.set_ylim(3.0e-22, 1.0e-15)\n",
    "ax.grid('True')\n",
    "ax.tick_params(labelsize=25)\n",
    "\n",
    "ax.legend(fontsize=25)\n",
    "#plt.savefig('sourceVSdetectorStrain_m_2e4_equal_mass_1Gpc_4yr_a_init_450m.pdf',dpi=fig.dpi,bbox_inches='tight')"
   ]
  },
  {
   "cell_type": "code",
   "execution_count": null,
   "id": "97965327",
   "metadata": {},
   "outputs": [],
   "source": []
  }
 ],
 "metadata": {
  "kernelspec": {
   "display_name": "Python 3 (ipykernel)",
   "language": "python",
   "name": "python3"
  },
  "language_info": {
   "codemirror_mode": {
    "name": "ipython",
    "version": 3
   },
   "file_extension": ".py",
   "mimetype": "text/x-python",
   "name": "python",
   "nbconvert_exporter": "python",
   "pygments_lexer": "ipython3",
   "version": "3.9.5"
  }
 },
 "nbformat": 4,
 "nbformat_minor": 5
}
