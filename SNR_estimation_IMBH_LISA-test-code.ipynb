{
 "cells": [
  {
   "cell_type": "code",
   "execution_count": 15,
   "id": "51fb77a8",
   "metadata": {},
   "outputs": [],
   "source": [
    "#import relevant libraries\n",
    "\n",
    "import matplotlib.pyplot as plt\n",
    "import numpy as np\n",
    "import scipy as sp\n",
    "from math import *\n",
    "import matplotlib.ticker\n",
    "import LISA_tools as LISA"
   ]
  },
  {
   "cell_type": "markdown",
   "id": "77f3e3da",
   "metadata": {},
   "source": [
    "## Set physical and LISA constants"
   ]
  },
  {
   "cell_type": "code",
   "execution_count": 16,
   "id": "261c439a",
   "metadata": {},
   "outputs": [],
   "source": [
    "\"\"\" Cosmological values \"\"\"\n",
    "H0      = 69.6      # Hubble parameter today\n",
    "Omega_m = 0.286     # density parameter of matter\n",
    "\n",
    "\"\"\" LISA arm length \"\"\"\n",
    "L = 2.5e9 # meters\n",
    "\n",
    "\"\"\" Transfer Frequency \"\"\"\n",
    "f_star = LISA.C/(2.*np.pi*L)\n",
    "\n",
    "\"\"\" Observation Period \"\"\"\n",
    "Tobs = 4.*LISA.YEAR\n",
    "\n",
    "\"\"\" Number of Michelson Data Channels \"\"\"\n",
    "NC = 2\n",
    "\n",
    "\n",
    "G = 6.67430e-11\n",
    "c = 299792458.\n",
    "Gpc = 3.08567758149137e25/c #Giga parsec in seconds\n",
    "Msun = 1.9885e30*G/c**3 #Mass of Sun in seconds\n"
   ]
  },
  {
   "cell_type": "code",
   "execution_count": 17,
   "id": "1e804405",
   "metadata": {},
   "outputs": [],
   "source": [
    "def inner_inspiral_new(m1,m2):\n",
    "    m=m1+m2\n",
    "    eta=m1*m2/m**2\n",
    "    return (256/5*eta*m**3*4*LISA.YEAR/(1-(90./100)**4))**(1./4)"
   ]
  },
  {
   "cell_type": "markdown",
   "id": "f0ec92ab",
   "metadata": {},
   "source": [
    "## Import the Noise Curve (corresponding to 4yr LISA lifetime as default)"
   ]
  },
  {
   "cell_type": "code",
   "execution_count": 18,
   "id": "8c5a65ef",
   "metadata": {},
   "outputs": [],
   "source": [
    "freq_arr = np.loadtxt('Sn_4yr.dat')[:,0]\n",
    "Sn_arr = np.loadtxt('Sn_4yr.dat')[:,1]"
   ]
  },
  {
   "cell_type": "markdown",
   "id": "578d8243",
   "metadata": {},
   "source": [
    "## Compute the frequency as a function of time"
   ]
  },
  {
   "cell_type": "code",
   "execution_count": 19,
   "id": "2c0b0da3",
   "metadata": {},
   "outputs": [],
   "source": [
    "def aTOfreq(a,m):\n",
    "    return (m/a**3)**(1./2)/np.pi\n",
    "\n",
    "def freqTOa(f,m):\n",
    "    return (m/(np.pi*f)**2)**(1./3.)\n",
    "\n",
    "#Compute the GW frequency as a function of time\n",
    "\n",
    "def freq(f_init,m,eta,t):\n",
    "    a_in = (m/(np.pi*f_init)**2)**(1./3.)\n",
    "    epsilonrr = (m/a_in)**(5./2)\n",
    "    a=(a_in**4-256/5*eta*epsilonrr*(m)**(1./2)*a_in**(5./2.)*t)**(1./4.)\n",
    "    return (m/a**3)**(1./2.)/np.pi"
   ]
  },
  {
   "cell_type": "markdown",
   "id": "35316eef",
   "metadata": {},
   "source": [
    "## Define source parameters"
   ]
  },
  {
   "cell_type": "code",
   "execution_count": 20,
   "id": "66803224",
   "metadata": {},
   "outputs": [],
   "source": [
    "D_l = 1.0*Gpc #distance to source\n",
    "#masses in detector frame\n",
    "m1=1.0e4*Msun \n",
    "m2=1.0e4*Msun\n",
    "\n",
    "#Find redshift \n",
    "z=sp.optimize.root(LISA.get_z, 1., args=(D_l, Omega_m, H0)).x[0]\n",
    "\n",
    "m=m1+m2\n",
    "mu=m1*m2/m\n",
    "eta=mu/m\n",
    "Mc=eta**(3./5.)*m\n",
    "\n",
    "f_ISCO = 6.0**(-3./2)/m\n",
    "\n",
    "#initial orbital separation based on delta a/ a_init ~ 10%\n",
    "a_init= 480*m  #inner_inspiral_new(m1,m2)\n",
    "f_init=aTOfreq(a_init,m)"
   ]
  },
  {
   "cell_type": "markdown",
   "id": "49b13ed3",
   "metadata": {},
   "source": [
    "## Define GW inspiral strain and SNR"
   ]
  },
  {
   "cell_type": "code",
   "execution_count": 21,
   "id": "4a565229",
   "metadata": {},
   "outputs": [],
   "source": [
    "def h_insp(f,A):\n",
    "    #f is array like\n",
    "    return A*f**(-7./6.)\n",
    "\n",
    "def S_analytic(f,fstar,L,NC,Tobs):\n",
    "    Sn = LISA.get_Sn_approx(f,f_star,L,NC)\n",
    "    Sc = LISA.get_Sc_est(f,Tobs,NC)\n",
    "    return Sn+Sc\n",
    "\n",
    "def SNR(f,A,S,delta_f):\n",
    "    #f,S are array like\n",
    "    h=h_insp(f,A)\n",
    "    #Compute SNR using a simple Riemann sum as an approximation to the integral. \n",
    "    return (16./5.*np.sum(h**2/S)*delta_f)**(1./2.)"
   ]
  },
  {
   "cell_type": "markdown",
   "id": "13287c31",
   "metadata": {},
   "source": [
    "## Determine Frequency Window to study"
   ]
  },
  {
   "cell_type": "code",
   "execution_count": 22,
   "id": "a148bec7",
   "metadata": {},
   "outputs": [],
   "source": [
    "# Compute the maximum frequency after 4 years\n",
    "#f_max= #freq(f_init,m,eta,4*LISA.YEAR)\n",
    "#a_f = ((m)/(np.pi*f_max)**2)**(1./3.)\n",
    "a_f = 10.1431*m\n",
    "f_max=aTOfreq(a_f,m)"
   ]
  },
  {
   "cell_type": "code",
   "execution_count": 23,
   "id": "8b79b8e6",
   "metadata": {},
   "outputs": [],
   "source": [
    "#Define the frequency window to focus on and also define the bin size\n",
    "delta_f = (f_max-f_init)/100.\n",
    "freq_window = np.arange(f_init,f_max,delta_f)"
   ]
  },
  {
   "cell_type": "code",
   "execution_count": 24,
   "id": "d0d5d82c",
   "metadata": {},
   "outputs": [],
   "source": [
    "#f_max=f_max/(1+z)\n",
    "#f_init=f_init/(1+z)\n",
    "#delta_f=delta_f/(1+z)\n",
    "#freq_window=freq_window/(1+z)\n",
    "#Mc=Mc*(1+z)\n",
    "#Overall constant for GW amplitude\n",
    "A=np.sqrt(5./24.)*(Mc)**(5./6.)/np.pi**(2./3)/(D_l)"
   ]
  },
  {
   "cell_type": "markdown",
   "id": "e08739d7",
   "metadata": {},
   "source": [
    "## Find SNR for the source"
   ]
  },
  {
   "cell_type": "code",
   "execution_count": 25,
   "id": "eecec5e7",
   "metadata": {},
   "outputs": [],
   "source": [
    "# Find the approximate S_n and S_c and add them to get the total noise (this is an excellent approximation for early frequencies)\n",
    "S_tot_window = S_analytic(freq_window,f_star,L,NC,Tobs)\n",
    "#Find the resulting SNR \n",
    "rho = SNR(freq_window,A,S_tot_window,delta_f)"
   ]
  },
  {
   "cell_type": "code",
   "execution_count": 26,
   "id": "de3e18d0",
   "metadata": {},
   "outputs": [
    {
     "data": {
      "text/plain": [
       "930.9178301139581"
      ]
     },
     "execution_count": 26,
     "metadata": {},
     "output_type": "execute_result"
    }
   ],
   "source": [
    "rho"
   ]
  },
  {
   "cell_type": "code",
   "execution_count": 27,
   "id": "00df702a",
   "metadata": {},
   "outputs": [
    {
     "data": {
      "text/plain": [
       "47.28685638695009"
      ]
     },
     "execution_count": 27,
     "metadata": {},
     "output_type": "execute_result"
    }
   ],
   "source": [
    "a_init"
   ]
  },
  {
   "cell_type": "markdown",
   "id": "139158b1",
   "metadata": {},
   "source": [
    "## Plot source strain vs detector noise strain"
   ]
  },
  {
   "cell_type": "code",
   "execution_count": 28,
   "id": "5ce06d04",
   "metadata": {},
   "outputs": [
    {
     "data": {
      "image/png": "[encoded data removed]",
      "text/plain": [
       "<Figure size 720x576 with 1 Axes>"
      ]
     },
     "metadata": {
      "needs_background": "light"
     },
     "output_type": "display_data"
    }
   ],
   "source": [
    "fig,ax=plt.subplots(figsize=(10,8))\n",
    "\n",
    "\"\"\" Set the font and style of plot \"\"\"\n",
    "plt.rcParams.update({\n",
    "    \"text.usetex\": True,\n",
    "    \"font.family\": \"sans-serif\",\n",
    "    \"font.sans-serif\": [\"Helvetica\"]})\n",
    "# for Palatino and other serif fonts use:\n",
    "plt.rcParams.update({\n",
    "    \"text.usetex\": True,\n",
    "    \"font.family\": \"serif\",\n",
    "    \"font.serif\": [\"Palatino\"],\n",
    "})\n",
    "\n",
    "\n",
    "ax.set_xlabel(r'$f (Hz) $', fontsize=25)\n",
    "ax.set_ylabel(r'Strain',fontsize=25)\n",
    "\n",
    "ax.tick_params(which='both', width=2, length=8)\n",
    "\n",
    "ax.plot(freq_arr,(freq_arr*Sn_arr)**(1./2),label=r'$\\sqrt{f S_n(f)} \\equiv$ Detector strain')\n",
    "ax.plot(freq_window,freq_window*h_insp(freq_window,A),label=r'$f \\tilde{h} (f) \\equiv$ Source strain for IMBH inspiral')\n",
    "#ax.plot(freq_window,(freq_window*S_tot_window)**(1./2),label=r'$\\sqrt{f S_n(f)}$')\n",
    "ax.set_yscale('log')\n",
    "ax.set_xscale('log')\n",
    "#ax.set_xlim(1.0e-5, 1.0e0)\n",
    "#ax.set_ylim(3.0e-22, 1.0e-15)\n",
    "ax.grid('True')\n",
    "ax.tick_params(labelsize=25)\n",
    "\n",
    "ax.legend(fontsize=20)\n",
    "plt.savefig('sourceVSdetectorStrain_m_2e4_equal_mass_1Gpc_a_init_400m_a_f_6m.pdf',dpi=fig.dpi,bbox_inches='tight')"
   ]
  },
  {
   "cell_type": "code",
   "execution_count": 29,
   "id": "af6fe580",
   "metadata": {},
   "outputs": [],
   "source": [
    "S_med=(S_tot_window[0]+S_tot_window[len(S_tot_window)-1])/2\n",
    "f_med=(f_max+f_init)/2\n",
    "\n",
    "B=freq_window**(-7/3)/S_tot_window\n",
    "s=(B[len(B)-1]-B[0])/(f_max-f_init)\n",
    "B_line=B[0]+s*(freq_window-f_init)\n",
    "Num_Delta_f=f_max-f_init\n",
    "taylor_Delta_f=96/5*(np.pi)**(8/3)*Mc**(5/3)*(4*LISA.YEAR)*f_init**(11./3)"
   ]
  },
  {
   "cell_type": "code",
   "execution_count": 440,
   "id": "97965327",
   "metadata": {},
   "outputs": [
    {
     "data": {
      "text/plain": [
       "<matplotlib.legend.Legend at 0x1705eca00>"
      ]
     },
     "execution_count": 440,
     "metadata": {},
     "output_type": "execute_result"
    },
    {
     "data": {
      "image/png": "[encoded data removed]",
      "text/plain": [
       "<Figure size 720x576 with 1 Axes>"
      ]
     },
     "metadata": {
      "needs_background": "light"
     },
     "output_type": "display_data"
    }
   ],
   "source": [
    "fi2g,ax2=plt.subplots(figsize=(10,8))\n",
    "\n",
    "\"\"\" Set the font and style of plot \"\"\"\n",
    "plt.rcParams.update({\n",
    "    \"text.usetex\": True,\n",
    "    \"font.family\": \"sans-serif\",\n",
    "    \"font.sans-serif\": [\"Helvetica\"]})\n",
    "# for Palatino and other serif fonts use:\n",
    "plt.rcParams.update({\n",
    "    \"text.usetex\": True,\n",
    "    \"font.family\": \"serif\",\n",
    "    \"font.serif\": [\"Palatino\"],\n",
    "})\n",
    "\n",
    "\n",
    "ax2.set_xlabel(r'$f (Hz) $', fontsize=25)\n",
    "ax2.set_ylabel(r'$f^{-7/3} S_n (f)$',fontsize=25)\n",
    "\n",
    "ax2.tick_params(which='both', width=2, length=8)\n",
    "\n",
    "ax2.plot(freq_window,freq_window**(-7/3)/S_analytic(freq_window,f_star,L,NC,Tobs),label='Numerical')\n",
    "ax2.plot(freq_window,B[0]+s*(freq_window-f_init),label='Approx')\n",
    "\n",
    "#ax2.plot(freq_window,,label=r'$S_n(f)$')\n",
    "#ax.plot(freq_window,(freq_window*S_tot_window)**(1./2),label=r'$\\sqrt{f S_n(f)}$')\n",
    "ax2.set_yscale('log')\n",
    "ax2.set_xscale('log')\n",
    "#ax.set_xlim(1.0e-5, 1.0e0)\n",
    "#ax.set_ylim(3.0e-22, 1.0e-15)\n",
    "ax2.grid('True')\n",
    "ax2.tick_params(labelsize=25)\n",
    "\n",
    "ax2.legend(fontsize=25)\n",
    "#plt.savefig('sourceVSdetectorStrain_m_2e4_equal_mass_1Gpc_4yr_a_init_450m.pdf',dpi=fig.dpi,bbox_inches='tight')"
   ]
  },
  {
   "cell_type": "code",
   "execution_count": 617,
   "id": "c40ebe5d",
   "metadata": {},
   "outputs": [],
   "source": [
    "au=1.495e11"
   ]
  },
  {
   "cell_type": "code",
   "execution_count": 658,
   "id": "c85ebf50",
   "metadata": {},
   "outputs": [
    {
     "data": {
      "text/plain": [
       "9.280332674319228"
      ]
     },
     "execution_count": 658,
     "metadata": {},
     "output_type": "execute_result"
    }
   ],
   "source": [
    "(16/5*A**2*f_init**(-7/3)*taylor_Delta_f/S_tot_window[0])**(1./2)"
   ]
  },
  {
   "cell_type": "code",
   "execution_count": 619,
   "id": "e2fa7f3b",
   "metadata": {},
   "outputs": [
    {
     "data": {
      "text/plain": [
       "0.7538564201841941"
      ]
     },
     "execution_count": 619,
     "metadata": {},
     "output_type": "execute_result"
    }
   ],
   "source": [
    "(16/5*A**2*f_init**(4/3)*96/5*(np.pi)**(8/3)*Mc**(5/3)*(4*LISA.YEAR)/S_tot_window[0])**(1./2)/rho"
   ]
  },
  {
   "cell_type": "code",
   "execution_count": 659,
   "id": "2dd68518",
   "metadata": {},
   "outputs": [
    {
     "data": {
      "text/plain": [
       "0.0035848525777870677"
      ]
     },
     "execution_count": 659,
     "metadata": {},
     "output_type": "execute_result"
    }
   ],
   "source": [
    "abs(1-16*6**(1/2)/5*A*m**(7/6)*np.pi**(2/3)*(4*LISA.YEAR*eta/S_tot_window[0])**(1/2)/9.28/a_init)*100"
   ]
  },
  {
   "cell_type": "code",
   "execution_count": 674,
   "id": "d4173698",
   "metadata": {},
   "outputs": [
    {
     "data": {
      "text/plain": [
       "0.09232234194066115"
      ]
     },
     "execution_count": 674,
     "metadata": {},
     "output_type": "execute_result"
    }
   ],
   "source": [
    "8/5**(1/2)*m**2*(Tobs/S_tot_window[0])**(1/2)*eta/D_l/9.28*c/au"
   ]
  },
  {
   "cell_type": "code",
   "execution_count": 666,
   "id": "01e64df0",
   "metadata": {},
   "outputs": [],
   "source": [
    "def a0_constraint_chirp_analytic(m,eta,Dl,rho,Tobs,S0):\n",
    "    return 0.0957*au*(eta/0.25)*(m/(2e4*Msun))**2*(Dl/Gpc)**(-1)*(rho/10)**(-1)*(Tobs/(4*LISA.YEAR))**(1/2)*(S0/4e-36)**(-1/2)"
   ]
  },
  {
   "cell_type": "code",
   "execution_count": 667,
   "id": "515d103b",
   "metadata": {},
   "outputs": [
    {
     "data": {
      "text/plain": [
       "1.0073460010225748"
      ]
     },
     "execution_count": 667,
     "metadata": {},
     "output_type": "execute_result"
    }
   ],
   "source": [
    "a0_constraint_chirp_analytic(m,eta,D_l,9.28,Tobs,S_tot_window[0])/c/a_init"
   ]
  },
  {
   "cell_type": "code",
   "execution_count": 434,
   "id": "83bf1e62",
   "metadata": {},
   "outputs": [],
   "source": [
    "fminus=(f_max-f_init)/2\n",
    "fplus=(f_max+f_init)/2\n",
    "B0=B[len(B)-1]\n",
    "B1=B[0]"
   ]
  },
  {
   "cell_type": "code",
   "execution_count": 337,
   "id": "4e5048d2",
   "metadata": {},
   "outputs": [
    {
     "data": {
      "text/plain": [
       "9.968414946898482"
      ]
     },
     "execution_count": 337,
     "metadata": {},
     "output_type": "execute_result"
    }
   ],
   "source": [
    "(16/5*A**2*(B0+B1)*taylor_Delta_f/2)**(1/2)"
   ]
  },
  {
   "cell_type": "code",
   "execution_count": 347,
   "id": "790e6340",
   "metadata": {},
   "outputs": [
    {
     "data": {
      "text/plain": [
       "9.28033267431923"
      ]
     },
     "execution_count": 347,
     "metadata": {},
     "output_type": "execute_result"
    }
   ],
   "source": [
    "(16/5*A**2*B1*taylor_Delta_f)**(1/2)"
   ]
  },
  {
   "cell_type": "code",
   "execution_count": 532,
   "id": "1c15475d",
   "metadata": {},
   "outputs": [
    {
     "data": {
      "text/plain": [
       "2.077691918608381e-38"
      ]
     },
     "execution_count": 532,
     "metadata": {},
     "output_type": "execute_result"
    }
   ],
   "source": [
    "S_tot_window[0]"
   ]
  },
  {
   "cell_type": "code",
   "execution_count": 675,
   "id": "b16ea27b",
   "metadata": {},
   "outputs": [
    {
     "data": {
      "text/plain": [
       "484.43244411718086"
      ]
     },
     "execution_count": 675,
     "metadata": {},
     "output_type": "execute_result"
    }
   ],
   "source": [
    "a0_constraint_chirp_analytic(m,eta,D_l,10,Tobs,4e-36)/c/m"
   ]
  }
 ],
 "metadata": {
  "kernelspec": {
   "display_name": "Python 3 (ipykernel)",
   "language": "python",
   "name": "python3"
  },
  "language_info": {
   "codemirror_mode": {
    "name": "ipython",
    "version": 3
   },
   "file_extension": ".py",
   "mimetype": "text/x-python",
   "name": "python",
   "nbconvert_exporter": "python",
   "pygments_lexer": "ipython3",
   "version": "3.9.5"
  }
 },
 "nbformat": 4,
 "nbformat_minor": 5
}
