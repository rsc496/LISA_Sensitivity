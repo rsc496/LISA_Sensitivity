{
 "cells": [
  {
   "cell_type": "code",
   "execution_count": 4,
   "id": "036180d4",
   "metadata": {},
   "outputs": [],
   "source": [
    "#import relevant libraries\n",
    "\n",
    "import matplotlib.pyplot as plt\n",
    "import numpy as np\n",
    "import scipy as sp\n",
    "from math import *\n",
    "import matplotlib.ticker\n",
    "import LISA_tools as LISA"
   ]
  },
  {
   "cell_type": "markdown",
   "id": "8e38529d",
   "metadata": {},
   "source": [
    "## Set physical and LISA constants"
   ]
  },
  {
   "cell_type": "code",
   "execution_count": 5,
   "id": "f0804e5e",
   "metadata": {},
   "outputs": [],
   "source": [
    "\"\"\" Cosmological values \"\"\"\n",
    "H0      = 69.6      # Hubble parameter today\n",
    "Omega_m = 0.286     # density parameter of matter\n",
    "\n",
    "\"\"\" LISA arm length \"\"\"\n",
    "L = 2.5e9 # meters\n",
    "\n",
    "\"\"\" Transfer Frequency \"\"\"\n",
    "f_star = LISA.C/(2.*np.pi*L)\n",
    "\n",
    "\"\"\" Observation Period \"\"\"\n",
    "Tobs = 4.*LISA.YEAR\n",
    "\n",
    "\"\"\" Number of Michelson Data Channels \"\"\"\n",
    "NC = 2\n",
    "\n",
    "\n",
    "G = 6.67430e-11\n",
    "c = 299792458\n",
    "Gpc = 3.08567758149137e25/c #Giga parsec in seconds\n",
    "Msun = 1.9885e30*G/c**3 #Mass of Sun in seconds\n",
    "\n",
    "constants = np.array([H0, Omega_m, L, f_star, Tobs, NC])"
   ]
  },
  {
   "cell_type": "markdown",
   "id": "433608a6",
   "metadata": {},
   "source": [
    "## Define functions necessary to compute the SNR for different initial orbital separation"
   ]
  },
  {
   "cell_type": "code",
   "execution_count": 50,
   "id": "861f99fe",
   "metadata": {},
   "outputs": [],
   "source": [
    "def aTOfreq(a,m):\n",
    "    return (m/a**3)**(1./2)/np.pi\n",
    "\n",
    "def freqTOa(f,m):\n",
    "    return (m/(np.pi*f)**2)**(1./3.)\n",
    "    \n",
    "def freq(f_init,m,eta,t):\n",
    "    a_in = freqTOa(f_init,m)\n",
    "    epsilonrr = (m/a_in)**(5./2)\n",
    "    a_f=(a_in**4-256/5*eta*epsilonrr*(m)**(1./2)*a_in**(5./2.)*t)**(1./4.)\n",
    "    return aTOfreq(a_f,m)\n",
    "   \n",
    "def h_insp(f,A):\n",
    "    #f is array like\n",
    "    return A*f**(-7./6.)\n",
    "    \n",
    "def S_analytic(f,fstar,L,NC,Tobs):\n",
    "    Sn = LISA.get_Sn_approx(f,f_star,L,NC)\n",
    "    Sc = LISA.get_Sc_est(f,Tobs,NC)\n",
    "    return Sn+Sc\n",
    "    \n",
    "def rho(f,A,S,delta_f):\n",
    "    #f,S are array like\n",
    "    h=h_insp(f,A)\n",
    "    #Compute SNR using a simple Riemann sum as an approximation to the integral. \n",
    "    return (4*np.sum(h**2/S)*delta_f)**(1./2.)\n",
    "\n",
    "def mass_calculator(m1,m2):\n",
    "    m=m1+m2\n",
    "    mu=m1*m2/m\n",
    "    eta=mu/m\n",
    "    Mc=eta**(3./5.)*m\n",
    "    return m,mu,eta,Mc\n",
    "\n",
    "def freq_window_calculator(a_init,m,eta,Tobs):\n",
    "    #determine initial orbital frequency\n",
    "    f_init=aTOfreq(a_init,m)\n",
    "    #determine final orbital frequency\n",
    "    f_max=freq(f_init,m,eta,Tobs)\n",
    "    #Define the frequency window to focus on, with a choice of the bin size\n",
    "    delta_f = (f_max-f_init)/100.\n",
    "    freq_window = np.arange(f_init,f_max,delta_f)\n",
    "    return f_init,f_max,delta_f,freq_window\n",
    "\n",
    "def SNR_detectability(m1,m2,D_l,Tobs,a_init):\n",
    "    #find total mass, reduced mass, symmetric mass ratio, and chirp mass in detector frame. \n",
    "    m,mu,eta,Mc=mass_calculator(m1,m2)\n",
    "    #Find overall GW amplitude constant (in units of seconds**(-1/6))\n",
    "    A = np.sqrt(5./24.)*(Mc)**(5./6.)/np.pi**(2./3)/(D_l)\n",
    "    f_init,f_max,delta_f,freq_window=freq_window_calculator(a_init,m,eta,Tobs)\n",
    "    # Find the approximate S_n and S_c and add them to get the total noise (this is an excellent approximation for early frequencies)\n",
    "    S_tot_window = S_analytic(freq_window,f_star,L,NC,Tobs)\n",
    "    return rho(freq_window,A,S_tot_window,delta_f)\n"
   ]
  },
  {
   "cell_type": "code",
   "execution_count": 51,
   "id": "884a36cc",
   "metadata": {},
   "outputs": [],
   "source": [
    "#source frame mass\n",
    "m1=1e4*Msun\n",
    "m2=1e4*Msun\n",
    "#Distance in Giga Parsecs\n",
    "D_l=1*Gpc\n",
    "#Total mass\n",
    "m_total=m1+m2\n",
    "#ISCO frequency f_ISCO -- we use this as our f_0, which is the frequency cutoff for using an inspiral model h ~ f^(-7/6)\n",
    "f_ISCO=(1.0/6.0**(3.0))**(1./.2)/m_total\n",
    "#Create array of initial a_0\n",
    "a_init_arr = np.arange(400,600,1)*m_total\n",
    "#empty array for SNR (rho)\n",
    "rho_arr=np.array([])\n",
    "for i in range(len(a_init_arr)):\n",
    "    rho_arr=np.append(rho_arr,SNR_detectability(m1,m2,D_l,Tobs,a_init_arr[i]))\n"
   ]
  },
  {
   "cell_type": "code",
   "execution_count": 52,
   "id": "26e7664c",
   "metadata": {},
   "outputs": [
    {
     "data": {
      "text/plain": [
       "<matplotlib.legend.Legend at 0x168541370>"
      ]
     },
     "execution_count": 52,
     "metadata": {},
     "output_type": "execute_result"
    },
    {
     "data": {
      "image/png": "[encoded data removed]",
      "text/plain": [
       "<Figure size 720x576 with 1 Axes>"
      ]
     },
     "metadata": {
      "needs_background": "light"
     },
     "output_type": "display_data"
    }
   ],
   "source": [
    "#Plot the SNR against the initial orbital separation\n",
    "\n",
    "fig_SNR,ax_SNR=plt.subplots(figsize=(10,8))\n",
    "\n",
    "\"\"\" Set the font and style of plot \"\"\"\n",
    "plt.rcParams.update({\n",
    "    \"text.usetex\": True,\n",
    "    \"font.family\": \"sans-serif\",\n",
    "    \"font.sans-serif\": [\"Helvetica\"]})\n",
    "# for Palatino and other serif fonts use:\n",
    "plt.rcParams.update({\n",
    "    \"text.usetex\": True,\n",
    "    \"font.family\": \"serif\",\n",
    "    \"font.serif\": [\"Palatino\"],\n",
    "})\n",
    "\n",
    "ax_SNR.plot(a_init_arr/m_total,rho_arr)\n",
    "ax_SNR.axhline(10,color='red',label=r'SNR=10')\n",
    "ax_SNR.set_xlabel(r'$a_0/m $', fontsize=25)\n",
    "ax_SNR.set_ylabel(r'SNR',fontsize=25)\n",
    "ax_SNR.tick_params(which='both', width=2, length=8)\n",
    "ax_SNR.tick_params(labelsize=25)\n",
    "ax_SNR.grid('True')\n",
    "ax_SNR.legend(fontsize=25)"
   ]
  },
  {
   "cell_type": "code",
   "execution_count": 48,
   "id": "1c97ad2b",
   "metadata": {},
   "outputs": [],
   "source": [
    "#Max initial separation at the threshold SNR\n",
    "threshold_index=np.where(rho_arr<10)[0][0]-1\n",
    "a_0=a_init_arr[threshold_index]\n",
    "rho_0=rho_arr[threshold_index]"
   ]
  },
  {
   "cell_type": "markdown",
   "id": "6ea82555",
   "metadata": {},
   "source": [
    "## Measurability of chirp mass based on the initial orbital separation obtained above\n",
    "The fractional error in measuring the chirp mass, to a good approximation, is given by\n",
    "\\begin{align}\n",
    "\\dfrac{\\delta \\mathcal{M}}{\\mathcal{M}} & \\sim \\sqrt{C_{\\text{ln} \\mathcal{M} \\ \\text{ln} \\mathcal{M}}} \\\\\n",
    "& \\sim \\big ( \\dfrac{16384}{25} \\big )^{1/2} \\dfrac{u_0^5}{\\rho \\sqrt{J(17)}} \n",
    "\\end{align}\n",
    "\n",
    "where $u_0 = (\\pi \\mathcal{M} f_0)^{1/3}$ is the characteristic orbital velocity, with $f_0$ being the characteristic gravitational wave frequency, and $J(q)$ is the normalized noise-weighted moment defined by $J(q)=I(q)/I(7)$, where\n",
    "\n",
    "\\begin{align}\n",
    "I(q) = \\int \\limits_{x_{\\text{min}}}^{x_{\\text{max}}} \\dfrac{x^{-q/3}}{S_n(x f_0)} dx\n",
    "\\end{align}\n",
    "\n",
    "We will first compute the error in chirp mass for the $a_0$ we determined, evaluated at the corresponding threshold SNR of 10. Later we will obtain a constraint on $a_0$ by requring that the error in measuring chirp mass be small (less than a percent) at a given SNR (we can vary the SNR from 10 to 100 for example). "
   ]
  },
  {
   "cell_type": "code",
   "execution_count": 22,
   "id": "5acd600d",
   "metadata": {},
   "outputs": [],
   "source": [
    "chirp_mass=mass_calculator(m1,m2)[3]\n",
    "u0 = (np.pi*chirp_mass*f_ISCO)**(1./3.) "
   ]
  },
  {
   "cell_type": "code",
   "execution_count": 49,
   "id": "0ec1c4d6",
   "metadata": {},
   "outputs": [],
   "source": [
    "def I(q,x,S,xmin,xmax,dx):\n",
    "    return np.sum(x**(-q/3.)/S)*dx\n",
    "def J(q,x,S,xmin,xmax,dx):\n",
    "    return I(q,x,S,xmin,xmax,dx)/I(7.,x,S,xmin,xmax,dx)"
   ]
  },
  {
   "cell_type": "code",
   "execution_count": 71,
   "id": "fc8d3fc1",
   "metadata": {},
   "outputs": [],
   "source": [
    "def chirp_mass_measurability(u0,rho_th,a_init,m,eta,Tobs):\n",
    "        f_init,f_max,delta_f,freq_window=freq_window_calculator(a_init,m,eta,Tobs)\n",
    "        #change coordinates from f --> x\n",
    "        xmin=f_init/f_ISCO\n",
    "        xmax=f_max/f_ISCO\n",
    "        dx=delta_f/f_ISCO\n",
    "        x_window=freq_window/f_ISCO\n",
    "        S=S_analytic(freq_window,f_star,L,NC,Tobs)\n",
    "        J17 = J(17.,x_window,S,xmin,xmax,dx)\n",
    "        return (16384./25.)**(1./2.)*(u0**5)/(rho_th*np.sqrt(J17))"
   ]
  },
  {
   "cell_type": "code",
   "execution_count": 72,
   "id": "4e52ad61",
   "metadata": {},
   "outputs": [
    {
     "data": {
      "text/plain": [
       "1.3310088969284973e-07"
      ]
     },
     "execution_count": 72,
     "metadata": {},
     "output_type": "execute_result"
    }
   ],
   "source": [
    "chirp_mass_measurability(u0,10.,a_0,m_total,1./4.,Tobs)"
   ]
  },
  {
   "cell_type": "code",
   "execution_count": null,
   "id": "ea480a7b",
   "metadata": {},
   "outputs": [],
   "source": []
  }
 ],
 "metadata": {
  "kernelspec": {
   "display_name": "Python 3 (ipykernel)",
   "language": "python",
   "name": "python3"
  },
  "language_info": {
   "codemirror_mode": {
    "name": "ipython",
    "version": 3
   },
   "file_extension": ".py",
   "mimetype": "text/x-python",
   "name": "python",
   "nbconvert_exporter": "python",
   "pygments_lexer": "ipython3",
   "version": "3.9.5"
  }
 },
 "nbformat": 4,
 "nbformat_minor": 5
}
