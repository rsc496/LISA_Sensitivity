{
 "cells": [
  {
   "cell_type": "code",
   "execution_count": 1,
   "id": "7ace5d1c",
   "metadata": {},
   "outputs": [],
   "source": [
    "import matplotlib.pyplot as plt\n",
    "import numpy as np\n",
    "import scipy as sp\n",
    "from math import *\n",
    "import matplotlib.ticker\n",
    "import LISA_tools as LISA"
   ]
  },
  {
   "cell_type": "markdown",
   "id": "286f8ca4",
   "metadata": {},
   "source": [
    "## Set physical and LISA constants"
   ]
  },
  {
   "cell_type": "code",
   "execution_count": 16,
   "id": "4c3208ee",
   "metadata": {},
   "outputs": [],
   "source": [
    "\"\"\" Cosmological values \"\"\"\n",
    "H0      = 69.6      # Hubble parameter today\n",
    "Omega_m = 0.286     # density parameter of matter\n",
    "\n",
    "\"\"\" LISA arm length \"\"\"\n",
    "L = 2.5e9 # meters\n",
    "\n",
    "\"\"\" Transfer Frequency \"\"\"\n",
    "f_star = LISA.C/(2.*np.pi*L)\n",
    "\n",
    "\"\"\" Observation Period \"\"\"\n",
    "Tobs = 4.*LISA.YEAR\n",
    "\n",
    "\"\"\" Number of Michelson Data Channels \"\"\"\n",
    "NC = 2\n",
    "\n",
    "Gpc = 3.08567758149137e25\n",
    "G = 6.67430e-11\n",
    "c = 299792458\n",
    "Msun = 1.9885e30\n",
    "\n",
    "constants = np.array([H0, Omega_m, L, f_star, Tobs, NC])"
   ]
  },
  {
   "cell_type": "markdown",
   "id": "b39e16a8",
   "metadata": {},
   "source": [
    "## Import the Noise Curve (corresponding to 4yr LISA lifetime as default)"
   ]
  },
  {
   "cell_type": "code",
   "execution_count": 8,
   "id": "025504c4",
   "metadata": {},
   "outputs": [],
   "source": [
    "freq_arr = np.loadtxt('Sn_4yr.dat')[:,0]\n",
    "Sn_arr = np.loadtxt('Sn_4yr.dat')[:,1]"
   ]
  },
  {
   "cell_type": "markdown",
   "id": "88a38c8e",
   "metadata": {},
   "source": [
    "## Define source parameters"
   ]
  },
  {
   "cell_type": "code",
   "execution_count": 87,
   "id": "c34398cd",
   "metadata": {},
   "outputs": [],
   "source": [
    "D_l = 1.0*Gpc #distance to source\n",
    "#masses\n",
    "m1=1.0e4*Msun \n",
    "m2=1.0e4*Msun\n",
    "m=m1+m2\n",
    "mu=m1*m2/m\n",
    "eta=mu/m\n",
    "Mc=eta**(3./5.)*m\n",
    "\n",
    "#Overall constant for GW amplitude\n",
    "A=np.sqrt(5./24.)*(G*Mc/c**3)**(5./6.)/np.pi**(2./3)/(D_l/c)\n",
    "\n",
    "#initial orbital separation based on delta a/ a_init ~ 10%\n",
    "a_init=450*G*m/c**2 \n",
    "f_init=(G*m/a_init**3)**(1./2.)/np.pi"
   ]
  },
  {
   "cell_type": "markdown",
   "id": "f3ba48bb",
   "metadata": {},
   "source": [
    "## Compute the frequency as a function of time"
   ]
  },
  {
   "cell_type": "code",
   "execution_count": 45,
   "id": "c2ae567a",
   "metadata": {},
   "outputs": [],
   "source": [
    "#Compute the GW frequency as a function of time\n",
    "\n",
    "def freq(f_init,m,eta,t):\n",
    "    a_in = ((G*m)/(np.pi*f_init)**2)**(1./3.)\n",
    "    epsilonrr = (G*m/c**2/a_in)**(5./2)\n",
    "    a=(a_in**4-256/5*eta*epsilonrr*(G*m)**(1./2)*a_in**(5./2.)*t)**(1./4.)\n",
    "    return (G*m/a**3)**(1./2.)/np.pi"
   ]
  },
  {
   "cell_type": "markdown",
   "id": "e0787df7",
   "metadata": {},
   "source": [
    "## Define GW inspiral strain and SNR"
   ]
  },
  {
   "cell_type": "code",
   "execution_count": 77,
   "id": "c3cb8f8c",
   "metadata": {},
   "outputs": [],
   "source": [
    "def h_insp(f,A):\n",
    "    #f is array like\n",
    "    return A*f**(-7./6.)\n",
    "\n",
    "def SNR(f,A,S,delta_f):\n",
    "    #f,S are array like\n",
    "    h=h_insp(f,A)\n",
    "    #Compute SNR using a simple Riemann sum as an approximation to the integral. \n",
    "    return (4*np.sum(h**2/S)*delta_f)**(1./2.)"
   ]
  },
  {
   "cell_type": "markdown",
   "id": "67379a19",
   "metadata": {},
   "source": [
    "## Determine Frequency Window to study"
   ]
  },
  {
   "cell_type": "code",
   "execution_count": 59,
   "id": "74e3ea32",
   "metadata": {},
   "outputs": [],
   "source": [
    "# Compute the maximum frequency after 4 years\n",
    "f_max=freq(f_init,m,eta,4*LISA.YEAR)\n",
    "a_f = ((G*m)/(np.pi*f_max)**2)**(1./3.)"
   ]
  },
  {
   "cell_type": "code",
   "execution_count": 94,
   "id": "12c20c83",
   "metadata": {},
   "outputs": [],
   "source": [
    "#Define the frequency window to focus on and also define the bin size\n",
    "delta_f = (f_max-f_init)/100000.\n",
    "freq_window = np.arange(f_init,f_max,delta_f)"
   ]
  },
  {
   "cell_type": "code",
   "execution_count": 97,
   "id": "e94af6a8",
   "metadata": {},
   "outputs": [
    {
     "data": {
      "text/plain": [
       "7.145896850356619e-10"
      ]
     },
     "execution_count": 97,
     "metadata": {},
     "output_type": "execute_result"
    }
   ],
   "source": [
    "delta_f"
   ]
  },
  {
   "cell_type": "markdown",
   "id": "b58f2800",
   "metadata": {},
   "source": [
    "## Find SNR for the source"
   ]
  },
  {
   "cell_type": "code",
   "execution_count": 95,
   "id": "d28bdf08",
   "metadata": {},
   "outputs": [],
   "source": [
    "# Find the approximate S_n and S_c and add them to get the total noise (this is an excellent approximation for early frequencies)\n",
    "Sn_window = LISA.get_Sn_approx(freq_window,f_star,L,NC)\n",
    "Sc_window = LISA.get_Sc_est(freq_window,Tobs,NC)\n",
    "S_tot_window = Sn_window+Sc_window\n",
    "#Find the resulting SNR \n",
    "rho = SNR(freq_window,A,S_tot_window,delta_f)"
   ]
  },
  {
   "cell_type": "code",
   "execution_count": 114,
   "id": "a24f576e",
   "metadata": {},
   "outputs": [
    {
     "data": {
      "text/plain": [
       "15.608367349599815"
      ]
     },
     "execution_count": 114,
     "metadata": {},
     "output_type": "execute_result"
    }
   ],
   "source": [
    "rho"
   ]
  },
  {
   "cell_type": "markdown",
   "id": "d1dcb91e",
   "metadata": {},
   "source": [
    "## Plot source strain vs detector noise strain"
   ]
  },
  {
   "cell_type": "code",
   "execution_count": 113,
   "id": "2fb46685",
   "metadata": {},
   "outputs": [
    {
     "data": {
      "text/plain": [
       "<matplotlib.legend.Legend at 0x1738abc70>"
      ]
     },
     "execution_count": 113,
     "metadata": {},
     "output_type": "execute_result"
    },
    {
     "data": {
      "image/png": "[encoded data removed]",
      "text/plain": [
       "<Figure size 720x576 with 1 Axes>"
      ]
     },
     "metadata": {
      "needs_background": "light"
     },
     "output_type": "display_data"
    }
   ],
   "source": [
    "fig,ax=plt.subplots(figsize=(10,8))\n",
    "\n",
    "\"\"\" Set the font and style of plot \"\"\"\n",
    "plt.rcParams.update({\n",
    "    \"text.usetex\": True,\n",
    "    \"font.family\": \"sans-serif\",\n",
    "    \"font.sans-serif\": [\"Helvetica\"]})\n",
    "# for Palatino and other serif fonts use:\n",
    "plt.rcParams.update({\n",
    "    \"text.usetex\": True,\n",
    "    \"font.family\": \"serif\",\n",
    "    \"font.serif\": [\"Palatino\"],\n",
    "})\n",
    "\n",
    "\n",
    "ax.set_xlabel(r'$f (Hz) $', fontsize=25)\n",
    "ax.set_ylabel(r'Characteristic Strain',fontsize=25)\n",
    "\n",
    "ax.tick_params(which='both', width=2, length=8)\n",
    "\n",
    "ax.plot(freq_window,freq_window*h_insp(freq_window,A),label=r'$f h (f)$')\n",
    "ax.plot(freq_window,(freq_window*S_tot_window)**(1./2),label=r'$\\sqrt{f S_n(f)}$')\n",
    "\n",
    "\n",
    "ax.tick_params(labelsize=25)\n",
    "\n",
    "ax.legend(fontsize=25)"
   ]
  },
  {
   "cell_type": "code",
   "execution_count": null,
   "id": "91100017",
   "metadata": {},
   "outputs": [],
   "source": []
  }
 ],
 "metadata": {
  "kernelspec": {
   "display_name": "Python 3 (ipykernel)",
   "language": "python",
   "name": "python3"
  },
  "language_info": {
   "codemirror_mode": {
    "name": "ipython",
    "version": 3
   },
   "file_extension": ".py",
   "mimetype": "text/x-python",
   "name": "python",
   "nbconvert_exporter": "python",
   "pygments_lexer": "ipython3",
   "version": "3.9.5"
  }
 },
 "nbformat": 4,
 "nbformat_minor": 5
}
